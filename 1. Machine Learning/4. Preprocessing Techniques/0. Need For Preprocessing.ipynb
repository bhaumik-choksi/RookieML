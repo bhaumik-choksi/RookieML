{
 "cells": [
  {
   "cell_type": "markdown",
   "metadata": {},
   "source": [
    "## How is preprocessing going to help?\n",
    "Sometimes the collected data might not be suitable for direct processing. Let's look at the following examples: \n",
    "- Case 1. A dataset contains the ages and salaries of employees. The range of ages is 0-99. The range of salaries is 0-10,000,000. <br> <em>While training, the output seems to be independent of the age and based only on the salaries. Why did this happen?</em> <br> <br>\n",
    "- Case 2. Customer reviews contain product ratings as \"Good\", \"Average\" or \"Bad\". However, we are aware that machine learning models only operate on numerical data. <br> <em>How do we convert categorical or non-numerical data to a meaningful numerical representation?</em> <br><br>\n",
    "- Case 3. Let's say you have 18 features to work with. However, you realize some feature are highly correlated. For example, monthly salary and annual salary could be two different features that basically mean the same thing. <br> <em> How do we identify such features and eliminate this redundancy? </em> <br> <br>\n",
    "- Case 4. What if some tuples have missing values? Simple. We could just discard them. But what if a majority of tuples have some missing values? <em>How do we address the problem of missing values? </em>\n",
    "\n",
    "Let us try to solve these problems one by one.\n",
    "\n",
    "![img](http://www.acheronanalytics.com/uploads/9/8/6/3/98636884/editor/51764130_1.jpg?1491762379)"
   ]
  }
 ],
 "metadata": {
  "kernelspec": {
   "display_name": "Python 3",
   "language": "python",
   "name": "python3"
  },
  "language_info": {
   "codemirror_mode": {
    "name": "ipython",
    "version": 3
   },
   "file_extension": ".py",
   "mimetype": "text/x-python",
   "name": "python",
   "nbconvert_exporter": "python",
   "pygments_lexer": "ipython3",
   "version": "3.5.2"
  }
 },
 "nbformat": 4,
 "nbformat_minor": 2
}

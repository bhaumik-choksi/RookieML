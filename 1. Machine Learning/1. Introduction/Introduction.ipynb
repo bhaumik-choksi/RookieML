{
 "cells": [
  {
   "cell_type": "markdown",
   "metadata": {},
   "source": [
    "# What is machine learning?\n",
    "There's plenty of definitions out there, but here's my personal favorite - _Machine learning consists of techniques and procedures that make computers solve problems without explicitly telling them how to do so._ Machine learning is a part of Artificial Intelligence. It helps us solve problems that aren't solvable using traditional programming approaches.\n",
    "\n",
    "# What can I do with machine learning?\n",
    "Just about anything :)\n",
    "\n",
    "Here are a few examples - \n",
    "- Drive a car\n",
    "- Predict stock prices\n",
    "- Interpret speech\n",
    "- Filter spam\n",
    "- Generate captions for images\n",
    "\n",
    "# Why is it so popular? \n",
    "Machine learning allows computers to emulate human capabilites to a certain extent. For a long time, computers were seen as dumb machines that needed to be told what to do and how to do it. Machine learning enables computers to \"learn\" how to achieve a given goal. This opens up a lot of possibilites! Tasks which were previously limited to humans can now be performed using machines - several times faster.\n",
    "\n",
    "# What are the different approaches to machine learning? \n",
    "There's 3 basic approaches to machine learning\n",
    "1. Supervised (Learning using examples)\n",
    "2. Unsupervised (Finding similarity)\n",
    "3. Reinforcement (Improving using feedback)\n",
    "\n",
    "## Typical machine learning workflow\n",
    "1. Identify the problem (\"Make an automatic spam filter\")\n",
    "2. Pick an approach (eg. Supervised)\n",
    "3. Find training data (A bunch of emails, some of which are spam)\n",
    "4. Model a solution (Try different algorithms)\n",
    "5. Test the solution (Give the model a new set of emails and check how effectively it identified spam)\n",
    "6. BASK IN YOUR OWN GLORY! ![image](https://imgur.com/kb4uho7.png)\n",
    "\n",
    "#### Is it difficult?\n",
    "It is easier than you think. \n",
    "A major chunk of machine learning is based on mathematics - things like statistics, probability and calculus.\n",
    "\n",
    "#### Why does everyone use Python? \n",
    "Because it's awesome! \n",
    "Python allows you to focus more on your logic, and less on the implementation.\n",
    "In addition to that, there are several libraries and frameworks that you can use with Python.\n",
    "\n",
    "#### What about other languages?\n",
    "Machine learning can be implemented in just about any programming language, with varying levels of difficulty. Some languages offer robust frameworks, some offer better performance, others suck. \n",
    "\n",
    "Let's begin :)"
   ]
  }
 ],
 "metadata": {
  "kernelspec": {
   "display_name": "Python 3",
   "language": "python",
   "name": "python3"
  },
  "language_info": {
   "codemirror_mode": {
    "name": "ipython",
    "version": 3
   },
   "file_extension": ".py",
   "mimetype": "text/x-python",
   "name": "python",
   "nbconvert_exporter": "python",
   "pygments_lexer": "ipython3",
   "version": "3.5.2"
  }
 },
 "nbformat": 4,
 "nbformat_minor": 2
}

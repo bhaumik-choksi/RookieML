{
 "cells": [
  {
   "cell_type": "markdown",
   "metadata": {},
   "source": [
    "# What is regression? \n",
    "Regression is a mathematical technique used to determine the relation between one or more independent variables and a dependent variable.\n",
    "# What is linear regression? \n",
    "Let's say you are given a few points:\n",
    "![image](https://upload.wikimedia.org/wikipedia/commons/thumb/3/3a/Linear_regression.svg/400px-Linear_regression.svg.png)\n",
    "To put it very simply, linear regression involves finding a line that passes through all these points, or as close to all the given points as possible.\n",
    "\n",
    "Given a set of points (x1,y1), (x2,y2)... , linear regression involves finding a slope (m) and an intercept (c) such that the line (Y = mX + c) \"fits\" the given set of points.\n",
    "\n",
    "### How do we measure \"close\" ? \n",
    "Usually, we use a metric called mean-squared-error (MSE). The error ('E' in MSE) is the difference between the output predicted by the line~ and the actual output.\n",
    "\n",
    "### What is the point of this? What do I do with the line? \n",
    "We can use the equation of the line to predict the output (Y) for any given value input (X)."
   ]
  },
  {
   "cell_type": "markdown",
   "metadata": {},
   "source": [
    "# Give me an example!\n",
    "Let us start with a simple problem - predicting the price of a house (Y) given the number of rooms it has (X).\n",
    "We are given the following data -\n",
    "<table>\n",
    "    <tr>\n",
    "        <th>\n",
    "        No. of rooms (X)\n",
    "        </th>\n",
    "        <th>\n",
    "        Price of the house (Y)\n",
    "        </th>    \n",
    "    </tr>\n",
    "    <tr>\n",
    "        <td>1</td>\n",
    "        <td>11</td>\n",
    "    </tr>\n",
    "    <tr>\n",
    "        <td>2</td>\n",
    "        <td>21</td>\n",
    "    </tr>\n",
    "    <tr>\n",
    "        <td>3</td>\n",
    "        <td>31</td>\n",
    "    </tr>\n",
    "    <tr>\n",
    "        <td>4</td>\n",
    "        <td>41</td>\n",
    "    </tr>\n",
    "    <tr>\n",
    "        <td>5</td>\n",
    "        <td>51</td>\n",
    "    </tr>\n",
    "</table>\n",
    "\n",
    "Now, let us try to predict the price of a house with 10 rooms! <br>\n",
    "Make sure you have installed all the dependencies"
   ]
  },
  {
   "cell_type": "code",
   "execution_count": 18,
   "metadata": {},
   "outputs": [
    {
     "data": {
      "image/png": "[encoded data removed]",
      "text/plain": [
       "<matplotlib.figure.Figure at 0x244a5fac080>"
      ]
     },
     "metadata": {},
     "output_type": "display_data"
    }
   ],
   "source": [
    "# First, we create a list of inputs and their corresponding outputs, based on the given data\n",
    "X = [1, 2 ,3 ,4 ,5 ]\n",
    "Y = [11,21,31,41,51]\n",
    "\n",
    "# We will use the matplotlib library to plot our data\n",
    "from matplotlib import pyplot as plt\n",
    "plt.scatter(X,Y)\n",
    "plt.xlabel(\"No. of rooms\")\n",
    "plt.ylabel(\"Price\")\n",
    "plt.show()"
   ]
  },
  {
   "cell_type": "markdown",
   "metadata": {},
   "source": [
    "Here's what our data looks like so far. Neat!\n",
    "Now let's fit this data into a linear regression model using the scikit-learn library."
   ]
  },
  {
   "cell_type": "code",
   "execution_count": 19,
   "metadata": {},
   "outputs": [
    {
     "data": {
      "text/plain": [
       "LinearRegression(copy_X=True, fit_intercept=True, n_jobs=1, normalize=False)"
      ]
     },
     "execution_count": 19,
     "metadata": {},
     "output_type": "execute_result"
    }
   ],
   "source": [
    "from sklearn.linear_model import LinearRegression\n",
    "import numpy as np\n",
    "\n",
    "#Let's first convert our data to numpy arrays\n",
    "X = np.asarray(X).reshape(-1,1)\n",
    "Y = np.asarray(Y).reshape(-1,1)\n",
    "\n",
    "model = LinearRegression()\n",
    "model.fit(X,Y)\n",
    "# Great! Our model has \"learned\" the relationship between X and Y"
   ]
  },
  {
   "cell_type": "code",
   "execution_count": 20,
   "metadata": {},
   "outputs": [
    {
     "name": "stdout",
     "output_type": "stream",
     "text": [
      "[[ 101.]]\n"
     ]
    }
   ],
   "source": [
    "# Let's try predicting the price of a house with 10 rooms\n",
    "print(model.predict(10))"
   ]
  },
  {
   "cell_type": "markdown",
   "metadata": {},
   "source": [
    "# WOW! What just happened?\n",
    "The given data was linearly related. Hence, our model was able to learn this linear relationship from the given data, and predict the price of a sample that wasn't a part of the training data.\n",
    "\n",
    "As you might have guessed, the equation of the line for this example would be Y = 10X + 1 <br>\n",
    "But let's verify this by checking what our model learned."
   ]
  },
  {
   "cell_type": "code",
   "execution_count": 21,
   "metadata": {},
   "outputs": [
    {
     "name": "stdout",
     "output_type": "stream",
     "text": [
      "Coefficient or slope m of the model is - \n",
      "[[ 10.]]\n",
      "Intercept c of the model is -\n",
      "[ 1.]\n"
     ]
    }
   ],
   "source": [
    "print(\"Coefficient or slope m of the model is - \")\n",
    "print(model.coef_)\n",
    "print(\"Intercept c of the model is -\")\n",
    "print(model.intercept_)"
   ]
  },
  {
   "cell_type": "markdown",
   "metadata": {},
   "source": [
    "Let's plot the results of our model along with the data we used for training"
   ]
  },
  {
   "cell_type": "code",
   "execution_count": 22,
   "metadata": {},
   "outputs": [
    {
     "data": {
      "image/png": "[encoded data removed]",
      "text/plain": [
       "<matplotlib.figure.Figure at 0x244a5fc5b38>"
      ]
     },
     "metadata": {},
     "output_type": "display_data"
    }
   ],
   "source": [
    "predictions = model.predict(X)\n",
    "plt.scatter(X,Y)\n",
    "plt.plot(X,predictions)\n",
    "plt.show()"
   ]
  },
  {
   "cell_type": "markdown",
   "metadata": {},
   "source": [
    "It's a perfect fit! :)"
   ]
  },
  {
   "cell_type": "markdown",
   "metadata": {},
   "source": [
    "![img](http://i.imgur.com/nJL1a2P.jpg)"
   ]
  },
  {
   "cell_type": "markdown",
   "metadata": {},
   "source": [
    "# Limitations\n",
    "An obvious limitation of this model is that it cannot properly fit data that has a non-linear relationship.\n",
    "For example, let's try to predict **squares** of a given number using the same model."
   ]
  },
  {
   "cell_type": "code",
   "execution_count": 25,
   "metadata": {},
   "outputs": [
    {
     "data": {
      "image/png": "[encoded data removed]",
      "text/plain": [
       "<matplotlib.figure.Figure at 0x244a6151ba8>"
      ]
     },
     "metadata": {},
     "output_type": "display_data"
    }
   ],
   "source": [
    "X = np.asarray(list(range(1,20)))\n",
    "Y = X**2\n",
    "plt.scatter(X,Y)\n",
    "plt.show()"
   ]
  },
  {
   "cell_type": "code",
   "execution_count": 26,
   "metadata": {},
   "outputs": [
    {
     "data": {
      "image/png": "[encoded data removed]",
      "text/plain": [
       "<matplotlib.figure.Figure at 0x244a621b0f0>"
      ]
     },
     "metadata": {},
     "output_type": "display_data"
    }
   ],
   "source": [
    "X = X.reshape(-1,1)\n",
    "Y = Y.reshape(-1,1)\n",
    "\n",
    "model = LinearRegression()\n",
    "model.fit(X,Y)\n",
    "\n",
    "predicted = model.predict(X)\n",
    "plt.scatter(X,Y)\n",
    "plt.plot(X,predicted)\n",
    "plt.show()"
   ]
  },
  {
   "cell_type": "code",
   "execution_count": 33,
   "metadata": {},
   "outputs": [
    {
     "name": "stdout",
     "output_type": "stream",
     "text": [
      "Predicted [[ 330.]]\n",
      "Actual 400\n"
     ]
    }
   ],
   "source": [
    "print(\"Predicted\",model.predict(20))\n",
    "print(\"Actual\",(20 * 20))"
   ]
  },
  {
   "cell_type": "markdown",
   "metadata": {},
   "source": [
    "As you can see, the linear model is highly inaccurate when it comes to predicting squares! <br>\n",
    "We need a more complex model to handle such data!"
   ]
  }
 ],
 "metadata": {
  "kernelspec": {
   "display_name": "Python 3",
   "language": "python",
   "name": "python3"
  },
  "language_info": {
   "codemirror_mode": {
    "name": "ipython",
    "version": 3
   },
   "file_extension": ".py",
   "mimetype": "text/x-python",
   "name": "python",
   "nbconvert_exporter": "python",
   "pygments_lexer": "ipython3",
   "version": "3.5.2"
  }
 },
 "nbformat": 4,
 "nbformat_minor": 2
}

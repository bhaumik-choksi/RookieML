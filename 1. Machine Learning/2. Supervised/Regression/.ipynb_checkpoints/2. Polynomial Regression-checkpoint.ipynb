{
 "cells": [
  {
   "cell_type": "markdown",
   "metadata": {},
   "source": [
    "# What is polynomial regression? \n",
    "In Polynomial regression, the relationship between the independent variable X and the dependent variable Y is modelled as an nth degree polynomial in X\n",
    "\n",
    "Polynomial regression is an improvement over linear regression, and can fit more complex data.\n",
    "Let's try to predict squares using polynomial regression this time"
   ]
  },
  {
   "cell_type": "code",
   "execution_count": 13,
   "metadata": {},
   "outputs": [
    {
     "data": {
      "image/png": "[encoded data removed]",
      "text/plain": [
       "<matplotlib.figure.Figure at 0x2204af2a470>"
      ]
     },
     "metadata": {},
     "output_type": "display_data"
    }
   ],
   "source": [
    "import numpy as np\n",
    "from sklearn.preprocessing import PolynomialFeatures\n",
    "from sklearn.linear_model import LinearRegression\n",
    "from matplotlib import pyplot as plt\n",
    "\n",
    "X = np.asarray(list(range(1,30)))\n",
    "Y = X**2\n",
    "\n",
    "plt.scatter(X,Y)\n",
    "plt.show()"
   ]
  },
  {
   "cell_type": "code",
   "execution_count": 19,
   "metadata": {},
   "outputs": [
    {
     "name": "stdout",
     "output_type": "stream",
     "text": [
      "[[ 1  2  3  4  5  6  7  8  9 10 11 12 13 14 15 16 17 18 19 20 21 22 23 24\n",
      "  25 26 27 28 29]]\n",
      "[[   1.    4.    9.   16.   25.   36.   49.   64.   81.  100.  121.  144.\n",
      "   169.  196.  225.  256.  289.  324.  361.  400.  441.  484.  529.  576.\n",
      "   625.  676.  729.  784.  841.]]\n"
     ]
    }
   ],
   "source": [
    "X = X.reshape(1,-1)\n",
    "Y = Y.reshape(1,-1)\n",
    "\n",
    "\n",
    "model = LinearRegression() # Don't get confused, we're using polynomial features this time\n",
    "poly = PolynomialFeatures(degree=2).fit_transform(X)\n",
    "model.fit(poly,Y)\n",
    "predicted = model.predict(poly)\n",
    "print(X)\n",
    "print(predicted)"
   ]
  },
  {
   "cell_type": "markdown",
   "metadata": {},
   "source": [
    "# Woohoo! It is predicting squares correctly!\n",
    "Polynomial regression allows us to fit quadratic, cubic, and other high-degree data into our regression model"
   ]
  }
 ],
 "metadata": {
  "kernelspec": {
   "display_name": "Python 3",
   "language": "python",
   "name": "python3"
  },
  "language_info": {
   "codemirror_mode": {
    "name": "ipython",
    "version": 3
   },
   "file_extension": ".py",
   "mimetype": "text/x-python",
   "name": "python",
   "nbconvert_exporter": "python",
   "pygments_lexer": "ipython3",
   "version": "3.5.2"
  }
 },
 "nbformat": 4,
 "nbformat_minor": 2
}

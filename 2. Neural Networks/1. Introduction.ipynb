{
 "cells": [
  {
   "cell_type": "markdown",
   "metadata": {},
   "source": [
    "# Why are they called neural networks?\n",
    "Neural networks are a subset of machine learning algorithms. They're modeled after the neurons present in the brain. Neural networks are more sophisticated and robust, compared to previous machine learning algorithms, and have been modified to fit several interesting use-cases. \n",
    "\n",
    "### Are they related to \"deep-learning\" in any way?\n",
    "Neural networks usually consist of several layers, and each layer has multiple neurons. Any neural network which has multiple \"hidden\" layers in between the input layer and the output layer is called a \"deep neural network\". That's it. \n",
    "\n",
    "![img](http://4.bp.blogspot.com/-sLgBLS3bJO8/U__Kx6PnkRI/AAAAAAAAAWM/Gz3cL5jiwTo/s1600/godeeper.jpg)\n",
    "\n",
    "# How do they work?\n",
    "Neural networks consist of several neurons. You can think of a neuron as a function that takes in several inputs and returns a single output. Each neuron has multiple inputs and weights associated with each of these inputs. The weights determine how significant each feature is. \n",
    "![img](https://www.teco.edu/~albrecht/neuro/html/img3.gif)\n",
    "The output of a neuron is sent to the neurons in the next layer.\n",
    "\n",
    "A typical \"feed-forward\" neural network looks like this: \n",
    "![img](http://cs231n.github.io/assets/nn1/neural_net.jpeg)\n",
    "\n",
    "### Why do we need these layers? \n",
    "With each layer, the network can \"learn\" more abstract relationships between the input features and the output. Neural networks are universal function mappers. Given a set of input-output pairs, they try to find a function f such that y = f(x). This is true for machine learning algorithms in general. However, the accuracy of a neural network can be increased by simply adding more layers, hence, allowing them to map more complex functions, and consequently, more complex relationships between the input and the output.\n",
    "\n",
    "## Why are they so popular?\n",
    "Neural networks are extremely versatile. If you pick the right type of NN (or build a new one yourself), you can accomplish almost anything. Apart from common machine learning tasks such as regression and classification, Neural Nets can do pretty cool things, like generating new images, text-summarization, text-to-image and so on.\n",
    "\n",
    "## Popular Neural Network Types\n",
    "- Feedforward Network (The simplest form, \"Dense\" in Keras)\n",
    "- Recurrent - RNN, LSTM, GRU (Great for time-series data like stock price prediction)\n",
    "- Convolutional Neural Networks (Great when working with images and spatial data)\n",
    "- [Capsule Networks](https://medium.com/ai%C2%B3-theory-practice-business/understanding-hintons-capsule-networks-part-i-intuition-b4b559d1159b)"
   ]
  }
 ],
 "metadata": {
  "kernelspec": {
   "display_name": "Python 3",
   "language": "python",
   "name": "python3"
  },
  "language_info": {
   "codemirror_mode": {
    "name": "ipython",
    "version": 3
   },
   "file_extension": ".py",
   "mimetype": "text/x-python",
   "name": "python",
   "nbconvert_exporter": "python",
   "pygments_lexer": "ipython3",
   "version": "3.5.2"
  }
 },
 "nbformat": 4,
 "nbformat_minor": 2
}

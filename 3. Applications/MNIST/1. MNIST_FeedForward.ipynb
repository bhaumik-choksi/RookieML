{
 "cells": [
  {
   "cell_type": "markdown",
   "metadata": {},
   "source": [
    "### What is the MNIST dataset? \n",
    "The MNIST dataset is a large set of images of handwritten digits. It is probably the most common dataset used to test deep learning models that operate on images or perform image processing. It contains 28x28 images, each containing a handwritten digit from 0-9. Every image has an output label associated with it, denoting the digit represented by the image.\n",
    "\n",
    "![](http://corochann.com/wp-content/uploads/2017/02/mnist_plot-800x600.png)\n",
    "\n",
    "The input dimensions of the input are (N, 28, 28) and the output dimensions are (N) where N is the number of samples under consideration. "
   ]
  },
  {
   "cell_type": "code",
   "execution_count": 21,
   "metadata": {},
   "outputs": [
    {
     "data": {
      "image/png": "[encoded data removed]",
      "text/plain": [
       "<matplotlib.figure.Figure at 0x217356a2208>"
      ]
     },
     "metadata": {},
     "output_type": "display_data"
    },
    {
     "name": "stdout",
     "output_type": "stream",
     "text": [
      "The shape of x_train is  (60000, 28, 28)\n",
      "The shape of y_train is  (60000,)\n"
     ]
    }
   ],
   "source": [
    "# Let us import some libraries first\n",
    "import numpy as np\n",
    "from keras.models import Sequential\n",
    "from keras.layers import Dense, Input, Flatten\n",
    "from matplotlib import pyplot as plt\n",
    "\n",
    "# Keras comes with the MNIST dataset built-in!\n",
    "from keras.datasets import mnist \n",
    "\n",
    "(x_train, y_train),(x_test, y_test) = mnist.load_data()\n",
    "\n",
    "# Let's plot one of the samples\n",
    "plt.imshow(x_train[0])\n",
    "plt.title(\"The output label for this image is: \"+ str(y_train[0]))\n",
    "plt.show()\n",
    "\n",
    "# Let us also see the shape of the data\n",
    "print(\"The shape of x_train is \", x_train.shape)\n",
    "print(\"The shape of y_train is \", y_train.shape)"
   ]
  },
  {
   "cell_type": "markdown",
   "metadata": {},
   "source": [
    "##### Now, let us quickly build a simple classifier using keras\n",
    "First, we'll need to do some preprocessing - Since we're using a simple feedforward network, the input must be one-dimensional. \n",
    "However, our input data consists of images, so we'll have to find a way to convert 2D images to 1D input that can be fed into the network. The simplest way to do this is to flatten our images into a vector. Hence, we'll be converting our 28x28 image to a vector of length 784 (28*28 = 784). We'll also convert our output labels to one-hot encoded vectors since we're performing multi-class classification."
   ]
  },
  {
   "cell_type": "code",
   "execution_count": 22,
   "metadata": {},
   "outputs": [
    {
     "name": "stdout",
     "output_type": "stream",
     "text": [
      "Epoch 1/10\n",
      "60000/60000 [==============================] - 20s 326us/step - loss: 0.4075 - acc: 0.88502s - loss: 0.4113 - acc - ETA: 1s - los\n",
      "Epoch 2/10\n",
      "60000/60000 [==============================] - 19s 317us/step - loss: 0.3353 - acc: 0.9050\n",
      "Epoch 3/10\n",
      "60000/60000 [==============================] - 19s 313us/step - loss: 0.3186 - acc: 0.9102\n",
      "Epoch 4/10\n",
      "60000/60000 [==============================] - 19s 324us/step - loss: 0.3112 - acc: 0.9132\n",
      "Epoch 5/10\n",
      "60000/60000 [==============================] - 21s 343us/step - loss: 0.3028 - acc: 0.9152\n",
      "Epoch 6/10\n",
      "60000/60000 [==============================] - 18s 305us/step - loss: 0.2957 - acc: 0.9163\n",
      "Epoch 7/10\n",
      "60000/60000 [==============================] - 18s 298us/step - loss: 0.2909 - acc: 0.9182\n",
      "Epoch 8/10\n",
      "60000/60000 [==============================] - 18s 297us/step - loss: 0.2867 - acc: 0.9199\n",
      "Epoch 9/10\n",
      "60000/60000 [==============================] - 18s 297us/step - loss: 0.2843 - acc: 0.9192\n",
      "Epoch 10/10\n",
      "60000/60000 [==============================] - 18s 307us/step - loss: 0.2809 - acc: 0.9209\n"
     ]
    },
    {
     "data": {
      "text/plain": [
       "<keras.callbacks.History at 0x217356d59b0>"
      ]
     },
     "execution_count": 22,
     "metadata": {},
     "output_type": "execute_result"
    }
   ],
   "source": [
    "# Some basic normalization for the pixel intensities\n",
    "# Note that MNIST has grayscale images\n",
    "x_train = x_train/255\n",
    "x_test = x_test/255\n",
    "\n",
    "# Flattening the input\n",
    "x_train = x_train.reshape(-1, 784)\n",
    "x_test = x_test.reshape(-1,784)\n",
    "\n",
    "# One-hot encoding for the output\n",
    "from keras.utils import to_categorical\n",
    "\n",
    "y_train = to_categorical(y_train)\n",
    "y_test = to_categorical(y_test)\n",
    "\n",
    "model = Sequential()\n",
    "model.add(Dense(784, input_shape=(784, )))\n",
    "model.add(Dense(784))\n",
    "model.add(Dense(10, activation=\"softmax\")) # Because we have 10 output classes\n",
    "model.compile(optimizer=\"adam\", loss=\"categorical_crossentropy\", metrics=['accuracy'])\n",
    "model.fit(x_train, y_train, epochs=10, batch_size = 100)"
   ]
  },
  {
   "cell_type": "code",
   "execution_count": 26,
   "metadata": {},
   "outputs": [
    {
     "name": "stdout",
     "output_type": "stream",
     "text": [
      "10000/10000 [==============================] - 3s 266us/step\n",
      "Final score: Loss= 0.2993020266771316  Accuracy = 91.9 %\n"
     ]
    }
   ],
   "source": [
    "loss, acc = model.evaluate(x_test, y_test)\n",
    "print(\"Final score: Loss=\",loss,\" Accuracy =\",acc * 100,\"%\")"
   ]
  },
  {
   "cell_type": "code",
   "execution_count": 28,
   "metadata": {},
   "outputs": [
    {
     "name": "stdout",
     "output_type": "stream",
     "text": [
      "_________________________________________________________________\n",
      "Layer (type)                 Output Shape              Param #   \n",
      "=================================================================\n",
      "dense_20 (Dense)             (None, 784)               615440    \n",
      "_________________________________________________________________\n",
      "dense_21 (Dense)             (None, 784)               615440    \n",
      "_________________________________________________________________\n",
      "dense_22 (Dense)             (None, 10)                7850      \n",
      "=================================================================\n",
      "Total params: 1,238,730\n",
      "Trainable params: 1,238,730\n",
      "Non-trainable params: 0\n",
      "_________________________________________________________________\n",
      "None\n"
     ]
    }
   ],
   "source": [
    "print(model.summary())"
   ]
  },
  {
   "cell_type": "markdown",
   "metadata": {},
   "source": [
    "## Neat!\n",
    "We trained a feed-forward network to classify MNIST images. The accuracy was pretty good too!\n",
    "Remember that good preprocessing is as important as building a powerful model."
   ]
  }
 ],
 "metadata": {
  "kernelspec": {
   "display_name": "Python 3",
   "language": "python",
   "name": "python3"
  },
  "language_info": {
   "codemirror_mode": {
    "name": "ipython",
    "version": 3
   },
   "file_extension": ".py",
   "mimetype": "text/x-python",
   "name": "python",
   "nbconvert_exporter": "python",
   "pygments_lexer": "ipython3",
   "version": "3.5.2"
  }
 },
 "nbformat": 4,
 "nbformat_minor": 2
}
